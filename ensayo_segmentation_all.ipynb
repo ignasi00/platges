{
 "cells": [
  {
   "cell_type": "markdown",
   "metadata": {},
   "source": [
    "# A draft of the segmentation pipeline"
   ]
  },
  {
   "cell_type": "markdown",
   "metadata": {},
   "source": [
    "## Imports and \"Inputs definition\""
   ]
  },
  {
   "cell_type": "code",
   "execution_count": 1,
   "metadata": {},
   "outputs": [],
   "source": [
    "\n",
    "# IMPORTS\n",
    "\n",
    "import albumentations as A\n",
    "import albumentations.pytorch\n",
    "import cv2\n",
    "import numpy as np \n",
    "import os\n",
    "import torch\n",
    "from types import SimpleNamespace\n",
    "\n",
    "from frameworks.opencv.homography.homography_matrix import BatchHomographyMatrixEstimator\n",
    "from frameworks.opencv.homography.homography_matrix import RANSAC_MatrixEstimator, Dense_PointFinder\n",
    "from frameworks.opencv.homography.translate_mask import translate_mask\n",
    "from frameworks.pytorch.utils.scales_process import torch_batch_scales_process_numpy\n",
    "from platges_utils.map_model_utils import platja_list_applier, refine_segmentation, normalized_correlation\n",
    "from platges_utils.model.pyconvsegnet import build_PyConvSegNet_from_params\n",
    "\n",
    "\n",
    "# CONSTANTS\n",
    "\n",
    "INPUTS_ROOT = \"/mnt/c/Users/Ignasi/Desktop/cosas/test/\"\n",
    "INPUTS = [f.path for f in os.scandir(INPUTS_ROOT) if f.is_file()]\n",
    "\n",
    "MODEL_NOVA_ICARIA = \"./outputs/map_models/nova_icaria.hdf5\"\n",
    "MODEL_BOGATELL = \"./outputs/map_models/bogatell.hdf5\"\n",
    "\n",
    "MAP_MODEL_FILENAME_LIST = [MODEL_NOVA_ICARIA, MODEL_BOGATELL]\n",
    "\n",
    "\n",
    "READ_FLAG = cv2.IMREAD_COLOR\n",
    "\n",
    "KERNEL = np.ones((50, 50), np.uint8)\n",
    "\n"
   ]
  },
  {
   "cell_type": "markdown",
   "metadata": {},
   "source": [
    "## Dataloading mechanisms"
   ]
  },
  {
   "cell_type": "code",
   "execution_count": 2,
   "metadata": {},
   "outputs": [],
   "source": [
    "\n",
    "def image_loader(inputs, resize_height, resize_width, mean, std):\n",
    "    \n",
    "    transforms_list = [\n",
    "        A.Resize(resize_height, resize_width, interpolation=cv2.INTER_AREA, always_apply=True),\n",
    "        A.Normalize(mean=mean, std=std),\n",
    "        A.pytorch.transforms.ToTensorV2()\n",
    "    ]\n",
    "    transforms = A.Compose(transforms_list)\n",
    "    \n",
    "    for input_ in inputs:\n",
    "\n",
    "        image = cv2.imread(input_, READ_FLAG) # (#row, #col, #color) (shape = H, W, 3)\n",
    "        if READ_FLAG == cv2.IMREAD_COLOR : image = cv2.cvtColor(image, cv2.COLOR_BGR2RGB)\n",
    "        \n",
    "        transformed = transforms(image=image)\n",
    "        transformed_image = transformed[\"image\"]\n",
    "\n",
    "        yield input_, image, transformed_image\n"
   ]
  },
  {
   "cell_type": "markdown",
   "metadata": {},
   "source": [
    "## Preparation for semantic segmentation of the input"
   ]
  },
  {
   "cell_type": "code",
   "execution_count": 3,
   "metadata": {},
   "outputs": [],
   "source": [
    "\n",
    "MEAN = [0.485, 0.456, 0.406]\n",
    "STD = [0.229, 0.224, 0.225]\n",
    "VALUE_SCALE = 255\n",
    "\n",
    "params = SimpleNamespace(\n",
    "    # Parameters updated from data\n",
    "    mean = [item * VALUE_SCALE for item in MEAN],\n",
    "    std = [item * VALUE_SCALE for item in STD],\n",
    "    # Modifiable hyperparams:\n",
    "    # (add new hyperparameters for any optim, loss, etc)\n",
    "    num_classes = 3,\n",
    "    gamma = 2, # if focal_loss\n",
    "    stride_rate = 2/3,\n",
    "    scales = [1.0],\n",
    "    # Data Augmentation parameters:\n",
    "    resize_height = 512,\n",
    "    resize_width = 696,\n",
    "    crop_height = 473,\n",
    "    crop_width = 473,\n",
    "    # PyConvSegNet hyperparams:\n",
    "    funnel_map = True,\n",
    "    zoom_factor = 8,\n",
    "    layers = 152,\n",
    "    num_classes_pretrain = 150,\n",
    "    backbone_output_stride = 8,\n",
    "    backbone_net = \"pyconvresnet\",\n",
    "    # Pre-trained pathes\n",
    "    pretrained_back_path = 'model_parameters/original_pyconvsegnet/ade20k_trainval120epochspyconvresnet152_pyconvsegnet.pth',\n",
    "    adapt_state_dict = False,\n",
    "    pretrained_path = '/home/ignasi/platges/model_parameters/segments_platgesBCN/pyconvsegnet_platgesBCN_test.pth'\n",
    ")\n",
    "\n",
    "build_model_from_params = build_PyConvSegNet_from_params\n",
    "\n",
    "apply_model = torch_batch_scales_process_numpy\n"
   ]
  },
  {
   "cell_type": "code",
   "execution_count": 4,
   "metadata": {},
   "outputs": [],
   "source": [
    "\n",
    "device = torch.device('cpu')\n",
    "\n",
    "model = build_model_from_params(params)\n",
    "model = model.to(device)\n"
   ]
  },
  {
   "cell_type": "markdown",
   "metadata": {},
   "source": [
    "## Preparation for MapModel utilities usage"
   ]
  },
  {
   "cell_type": "code",
   "execution_count": 5,
   "metadata": {},
   "outputs": [],
   "source": [
    "\n",
    "# TODO: As authomatic point matching is not working well, define manual point matching for the \"ensayo\" and later study better this part\n",
    "point_finder = Dense_PointFinder(1000)\n",
    "descriptor_finder = None\n",
    "matrix_finder = None\n",
    "\n",
    "homography_estimator = BatchHomographyMatrixEstimator(point_finder=point_finder, descriptor_finder=descriptor_finder, matrix_finder=matrix_finder)\n",
    "\n",
    "mask_translator = translate_mask\n"
   ]
  },
  {
   "cell_type": "markdown",
   "metadata": {},
   "source": [
    "## Semantic segmentation, Model matching and Homography segmentation\n",
    "\n",
    "This step uses the previous segmentation model to generate a mask of the desired \"beach plane\".\\\n",
    "This mask is used to get a better homography matrix to translate the manual segmentation.\\\n",
    "Then the manual anotation translated through the same space homography matrix is aggregated with the semantic segmentation one.\\\n",
    "Additionally, a similarity score is given to detect the need of a human checking. "
   ]
  },
  {
   "cell_type": "code",
   "execution_count": 6,
   "metadata": {},
   "outputs": [
    {
     "name": "stdout",
     "output_type": "stream",
     "text": [
      "/mnt/c/Users/Ignasi/Desktop/cosas/test/00_13_58.jpg\n",
      "./outputs/map_models/nova_icaria.hdf5\n",
      "1.577831486227228e-08\n",
      "---\n",
      "/mnt/c/Users/Ignasi/Desktop/cosas/test/01_13_58.jpg\n",
      "./outputs/map_models/nova_icaria.hdf5\n",
      "1.5657918052471243e-08\n",
      "---\n",
      "/mnt/c/Users/Ignasi/Desktop/cosas/test/03_13_58.jpg\n",
      "./outputs/map_models/nova_icaria.hdf5\n",
      "3.178767006297411e-08\n",
      "---\n",
      "/mnt/c/Users/Ignasi/Desktop/cosas/test/04_13_58.jpg\n",
      "./outputs/map_models/nova_icaria.hdf5\n",
      "3.094278738660269e-08\n",
      "---\n",
      "/mnt/c/Users/Ignasi/Desktop/cosas/test/05_13_58.jpg\n",
      "./outputs/map_models/bogatell.hdf5\n",
      "1.6274767679019244e-08\n",
      "---\n",
      "/mnt/c/Users/Ignasi/Desktop/cosas/test/07_13_58.jpg\n",
      "./outputs/map_models/bogatell.hdf5\n",
      "1.5881409070884207e-08\n",
      "---\n",
      "/mnt/c/Users/Ignasi/Desktop/cosas/test/08_13_58.jpg\n",
      "./outputs/map_models/bogatell.hdf5\n",
      "2.9332120241268338e-08\n",
      "---\n",
      "/mnt/c/Users/Ignasi/Desktop/cosas/test/11_13_58.jpg\n",
      "./outputs/map_models/bogatell.hdf5\n",
      "1.58103105237126e-08\n",
      "---\n"
     ]
    }
   ],
   "source": [
    "\n",
    "v_semantic_output = []\n",
    "v_semisupervised_mask = []\n",
    "v_mask = []\n",
    "v_score = []\n",
    "\n",
    "VERBOSE = True\n",
    "for image_filename, image, transformed_image in image_loader(INPUTS, params.resize_height, params.resize_width, params.mean, params.std):\n",
    "    if VERBOSE : print(image_filename)\n",
    "    \n",
    "    # image # H, W, C\n",
    "    \n",
    "    batch_images = transformed_image.numpy().copy() # C, H, W\n",
    "    batch_images = np.expand_dims(batch_images, axis=0) # B, C, H, W\n",
    "    \n",
    "    output = apply_model(model, batch_images, params.num_classes, params.crop_height, params.crop_width, params.mean, params.std, params.scales, base_size=0, stride_rate=params.stride_rate, device=device)\n",
    "    #if VERBOSE : print(f'{len(output)}, {output[0].shape}')\n",
    "    output = output[0]\n",
    "    v_semantic_output.append(output)\n",
    "    \n",
    "    points_mask = output.copy()\n",
    "    points_mask = cv2.resize(points_mask, (image.shape[1], image.shape[0]), interpolation=cv2.INTER_NEAREST)\n",
    "    points_mask[points_mask != 2] = 0\n",
    "    points_mask[points_mask == 2] = 1\n",
    "    points_mask = cv2.dilate(points_mask, KERNEL, iterations=1)\n",
    "    \n",
    "    semisupervised_mask, h, name, image, map_model_filename = platja_list_applier(image_filename, MAP_MODEL_FILENAME_LIST, homography_estimator, mask_translator, \n",
    "        image_mask=points_mask,\n",
    "        distance_funct=None,\n",
    "        k_nearest=None,\n",
    "        max_distance=None,\n",
    "        undefined_class=0,\n",
    "        nearness_limit=0,\n",
    "        read_flag=READ_FLAG\n",
    "    )\n",
    "    \n",
    "    if VERBOSE : print(map_model_filename)\n",
    "    v_semisupervised_mask.append(semisupervised_mask)\n",
    "    \n",
    "    output = cv2.resize(output, (image.shape[1], image.shape[0]), interpolation=cv2.INTER_NEAREST)\n",
    "    mask, score = refine_segmentation(semisupervised_mask, output, similarity_funct=normalized_correlation, undefined_classes=[0, 3])\n",
    "    \n",
    "    if VERBOSE : print(score)\n",
    "    v_mask.append(mask)\n",
    "    v_score.append(score)\n",
    "    \n",
    "    if VERBOSE : print('---')\n",
    "    "
   ]
  },
  {
   "cell_type": "markdown",
   "metadata": {},
   "source": [
    "## Visualization"
   ]
  },
  {
   "cell_type": "code",
   "execution_count": null,
   "metadata": {},
   "outputs": [
    {
     "data": {
      "image/png": "[encoded data removed]",
      "text/plain": [
       "<Figure size 432x288 with 2 Axes>"
      ]
     },
     "metadata": {
      "needs_background": "light"
     },
     "output_type": "display_data"
    },
    {
     "data": {
      "image/png": "[encoded data removed]",
      "text/plain": [
       "<Figure size 432x288 with 2 Axes>"
      ]
     },
     "metadata": {
      "needs_background": "light"
     },
     "output_type": "display_data"
    }
   ],
   "source": [
    "%matplotlib inline\n",
    "\n",
    "from matplotlib import pyplot as plt\n",
    "\n",
    "\n",
    "#for semantic_output, semisupervised_mask, mask, score in zip(v_semantic_output, v_semisupervised_mask, v_mask, v_score):\n",
    "for semantic_output, semisupervised_mask, mask, score in list(zip(v_semantic_output, v_semisupervised_mask, v_mask, v_score))[3:]:\n",
    "    semantic_output = cv2.resize(semantic_output, (semisupervised_mask.shape[1], semisupervised_mask.shape[0]), interpolation=cv2.INTER_NEAREST)\n",
    "    plt.imshow(semantic_output, vmin=0, vmax=2)\n",
    "    plt.colorbar()\n",
    "    plt.show()\n",
    "    plt.imshow(semisupervised_mask, vmin=0, vmax=2)\n",
    "    plt.colorbar()\n",
    "    plt.show()\n",
    "    plt.imshow(mask, vmin=0, vmax=2)\n",
    "    plt.colorbar()\n",
    "    plt.show()\n",
    "    print(score)\n",
    "    break\n"
   ]
  },
  {
   "cell_type": "code",
   "execution_count": null,
   "metadata": {},
   "outputs": [],
   "source": [
    "# TODO: cv2.findContours : https://stackoverflow.com/a/64649730"
   ]
  }
 ],
 "metadata": {
  "kernelspec": {
   "display_name": "Python 3 (ipykernel)",
   "language": "python",
   "name": "python3"
  },
  "language_info": {
   "codemirror_mode": {
    "name": "ipython",
    "version": 3
   },
   "file_extension": ".py",
   "mimetype": "text/x-python",
   "name": "python",
   "nbconvert_exporter": "python",
   "pygments_lexer": "ipython3",
   "version": "3.8.10"
  }
 },
 "nbformat": 4,
 "nbformat_minor": 4
}
