{
 "cells": [
  {
   "cell_type": "markdown",
   "id": "c1ed27e2-a48b-4f8e-b840-5da5ff19c97a",
   "metadata": {},
   "source": [
    "# A draft of the image overlap finding pipeline"
   ]
  },
  {
   "cell_type": "markdown",
   "id": "12d25bc0-1f8c-425d-b3ed-f8060eaa2446",
   "metadata": {},
   "source": [
    "## Imports and \"Inputs definition\""
   ]
  },
  {
   "cell_type": "code",
   "execution_count": 1,
   "id": "abe10f81-e06f-4681-9b42-c706a157d538",
   "metadata": {},
   "outputs": [],
   "source": [
    "\n",
    "# IMPORTS\n",
    "\n",
    "import cv2\n",
    "import numpy as np \n",
    "import os\n",
    "import torch\n",
    "from types import SimpleNamespace\n",
    "\n",
    "from frameworks.opencv.homography.homography_matrix import BatchHomographyMatrixEstimator\n",
    "from frameworks.opencv.homography.homography_matrix import RANSAC_MatrixEstimator, Dense_PointFinder\n",
    "from frameworks.opencv.homography.overlap import compute_overlap\n",
    "from frameworks.opencv.homography.translate_mask import translate_mask\n",
    "from frameworks.pytorch.utils.scales_process import torch_batch_scales_process_numpy\n",
    "from platges_utils.map_model_utils import platja_list_applier, refine_segmentation, normalized_correlation\n",
    "from platges_utils.model.pyconvsegnet import build_PyConvSegNet_from_params\n",
    "\n",
    "\n",
    "# CONSTANTS\n",
    "\n",
    "INPUTS_ROOT = \"/mnt/c/Users/Ignasi/Desktop/cosas/test/\"\n",
    "INPUTS = [f.path for f in os.scandir(INPUTS_ROOT) if f.is_file()]\n",
    "\n",
    "MODEL_NOVA_ICARIA = \"./outputs/map_models/nova_icaria.hdf5\"\n",
    "MODEL_BOGATELL = \"./outputs/map_models/bogatell.hdf5\"\n",
    "\n",
    "MAP_MODEL_FILENAME_LIST = [MODEL_NOVA_ICARIA, MODEL_BOGATELL]\n",
    "\n",
    "\n",
    "READ_FLAG = cv2.IMREAD_COLOR\n",
    "\n",
    "KERNEL = np.ones((50, 50), np.uint8)\n"
   ]
  },
  {
   "cell_type": "markdown",
   "id": "a4b3ff11-0ef3-49b6-a1c6-1a223ffc85e9",
   "metadata": {},
   "source": [
    "## Dataloading mechanisms"
   ]
  },
  {
   "cell_type": "code",
   "execution_count": 2,
   "id": "1387f8cb-5e8c-4021-82fd-d9ab36ea1078",
   "metadata": {},
   "outputs": [],
   "source": [
    "\n",
    "def image_loader(inputs):\n",
    "    \n",
    "    for input_ in inputs:\n",
    "\n",
    "        image = cv2.imread(input_, READ_FLAG) # (#row, #col, #color) (shape = H, W, 3)\n",
    "        if READ_FLAG == cv2.IMREAD_COLOR : image = cv2.cvtColor(image, cv2.COLOR_BGR2RGB)\n",
    "\n",
    "        yield input_, image\n",
    "        "
   ]
  },
  {
   "cell_type": "markdown",
   "id": "239c9887-5032-4273-84cc-9669598c01bf",
   "metadata": {},
   "source": [
    "## Preparation for MapModel utilities usage"
   ]
  },
  {
   "cell_type": "code",
   "execution_count": 3,
   "id": "bd85442d-9eca-4441-afd8-6ecb111d4e3c",
   "metadata": {},
   "outputs": [],
   "source": [
    "\n",
    "# TODO: As authomatic point matching is not working well, define manual point matching for the \"ensayo\" and later study better this part\n",
    "point_finder = Dense_PointFinder(1000)\n",
    "descriptor_finder = None\n",
    "matrix_finder = None\n",
    "\n",
    "homography_estimator = BatchHomographyMatrixEstimator(point_finder=point_finder, descriptor_finder=descriptor_finder, matrix_finder=matrix_finder)\n",
    "\n",
    "mask_translator = translate_mask\n",
    "\n",
    "# compute_overlap(x, v_H) where x is a vector of images and v_H is a vector of homography matrix that transform the images into a common plane\n",
    "overlap_finder = compute_overlap\n"
   ]
  },
  {
   "cell_type": "markdown",
   "id": "8ddf5f13-8d3f-40be-9973-ca293ba72487",
   "metadata": {},
   "source": [
    "## Model matching and Homography overlap"
   ]
  },
  {
   "cell_type": "code",
   "execution_count": 4,
   "id": "7fc82b4a-4dfd-45e4-8141-07d1a2625c43",
   "metadata": {},
   "outputs": [
    {
     "name": "stdout",
     "output_type": "stream",
     "text": [
      "/mnt/c/Users/Ignasi/Desktop/cosas/test/00_13_58.jpg\n",
      "./outputs/map_models/nova_icaria.hdf5\n",
      "---\n",
      "/mnt/c/Users/Ignasi/Desktop/cosas/test/01_13_58.jpg\n",
      "./outputs/map_models/nova_icaria.hdf5\n",
      "---\n",
      "/mnt/c/Users/Ignasi/Desktop/cosas/test/03_13_58.jpg\n",
      "./outputs/map_models/nova_icaria.hdf5\n",
      "---\n",
      "/mnt/c/Users/Ignasi/Desktop/cosas/test/04_13_58.jpg\n",
      "./outputs/map_models/nova_icaria.hdf5\n",
      "---\n",
      "/mnt/c/Users/Ignasi/Desktop/cosas/test/05_13_58.jpg\n",
      "./outputs/map_models/bogatell.hdf5\n",
      "---\n",
      "/mnt/c/Users/Ignasi/Desktop/cosas/test/07_13_58.jpg\n",
      "./outputs/map_models/bogatell.hdf5\n",
      "---\n",
      "/mnt/c/Users/Ignasi/Desktop/cosas/test/08_13_58.jpg\n",
      "./outputs/map_models/bogatell.hdf5\n",
      "---\n",
      "/mnt/c/Users/Ignasi/Desktop/cosas/test/11_13_58.jpg\n",
      "./outputs/map_models/bogatell.hdf5\n",
      "---\n"
     ]
    }
   ],
   "source": [
    "\n",
    "v_overlap = []\n",
    "\n",
    "v_map_model = []\n",
    "v_image = []\n",
    "v_h = []\n",
    "\n",
    "VERBOSE = True\n",
    "for image_filename, image in image_loader(INPUTS):\n",
    "    if VERBOSE : print(image_filename)\n",
    "    \n",
    "    semisupervised_mask, h, name, image, map_model_filename = platja_list_applier(image_filename, MAP_MODEL_FILENAME_LIST, homography_estimator, mask_translator, \n",
    "            image_mask=None,\n",
    "            distance_funct=None,\n",
    "            k_nearest=None,\n",
    "            max_distance=None,\n",
    "            undefined_class=0,\n",
    "            nearness_limit=0,\n",
    "            read_flag=READ_FLAG\n",
    "        )\n",
    "        \n",
    "    v_map_model.append(map_model_filename)\n",
    "    v_image.append(image)\n",
    "    v_h.append(h)\n",
    "    \n",
    "    if VERBOSE : print(f'{map_model_filename}\\n---')\n"
   ]
  },
  {
   "cell_type": "code",
   "execution_count": 5,
   "id": "566f4f96-eb0d-42a6-bcee-8e721b6bc9d2",
   "metadata": {},
   "outputs": [
    {
     "name": "stdout",
     "output_type": "stream",
     "text": [
      "Starting ./outputs/map_models/bogatell.hdf5\n",
      "Done ./outputs/map_models/bogatell.hdf5\n",
      "---\n",
      "Starting ./outputs/map_models/nova_icaria.hdf5\n",
      "Done ./outputs/map_models/nova_icaria.hdf5\n",
      "---\n"
     ]
    }
   ],
   "source": [
    "\n",
    "v_overlaps = []\n",
    "\n",
    "VERBOSE = True\n",
    "for map_model in np.unique(v_map_model):\n",
    "    \n",
    "    if VERBOSE : print(f'Starting {map_model}')\n",
    "    \n",
    "    near_images, images_matrix = list(zip(*[(x, y) for x, y, z in zip(v_image, v_h, v_map_model) if z == map_model]))\n",
    "    \n",
    "    paired_overlaps = overlap_finder(near_images, images_matrix)\n",
    "    \n",
    "    v_overlaps.append(paired_overlaps)\n",
    "    \n",
    "    if VERBOSE : print(f'Done {map_model}\\n---')\n"
   ]
  },
  {
   "cell_type": "markdown",
   "id": "d61cfe29-fad8-4c60-9dcf-1e66b1791c71",
   "metadata": {},
   "source": [
    "## Visualization"
   ]
  },
  {
   "cell_type": "code",
   "execution_count": 7,
   "id": "96b31163-fc9e-436d-acf2-483cdd8c9185",
   "metadata": {},
   "outputs": [
    {
     "data": {
      "image/png": "[encoded data removed]",
      "text/plain": [
       "<Figure size 432x288 with 2 Axes>"
      ]
     },
     "metadata": {
      "needs_background": "light"
     },
     "output_type": "display_data"
    },
    {
     "data": {
      "image/png": "[encoded data removed]",
      "text/plain": [
       "<Figure size 432x288 with 2 Axes>"
      ]
     },
     "metadata": {
      "needs_background": "light"
     },
     "output_type": "display_data"
    }
   ],
   "source": [
    "%matplotlib inline\n",
    "\n",
    "from matplotlib import pyplot as plt\n",
    "\n",
    "plt.imshow(v_overlaps[0][0, 0], vmin=0, vmax=1)\n",
    "plt.colorbar()\n",
    "plt.show()\n",
    "plt.imshow(v_overlaps[0][1, 2], vmin=0, vmax=1)\n",
    "plt.colorbar()\n",
    "plt.show()"
   ]
  },
  {
   "cell_type": "code",
   "execution_count": null,
   "id": "5dfcb80c-f968-4287-a1cd-cbf3a9859755",
   "metadata": {},
   "outputs": [],
   "source": []
  }
 ],
 "metadata": {
  "kernelspec": {
   "display_name": "Python 3 (ipykernel)",
   "language": "python",
   "name": "python3"
  },
  "language_info": {
   "codemirror_mode": {
    "name": "ipython",
    "version": 3
   },
   "file_extension": ".py",
   "mimetype": "text/x-python",
   "name": "python",
   "nbconvert_exporter": "python",
   "pygments_lexer": "ipython3",
   "version": "3.8.10"
  }
 },
 "nbformat": 4,
 "nbformat_minor": 5
}
